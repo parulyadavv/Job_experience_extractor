{
 "cells": [
  {
   "cell_type": "code",
   "execution_count": 18,
   "id": "8123adaa-4554-4c0b-a114-1771ce669c48",
   "metadata": {},
   "outputs": [],
   "source": [
    "import warnings\n",
    "warnings.filterwarnings(\"ignore\", category=FutureWarning)\n",
    "\n",
    "import pandas as pd\n",
    "import spacy\n",
    "from transformers import pipeline\n",
    "from flair.models import TARSClassifier\n",
    "from flair.data import Sentence\n",
    "from tqdm import tqdm\n",
    "from transformers import pipeline"
   ]
  },
  {
   "cell_type": "code",
   "execution_count": 19,
   "id": "30b54052-030b-45a9-ac40-a754a7494b83",
   "metadata": {},
   "outputs": [
    {
     "data": {
      "text/plain": [
       "{'score': 0.7795524597167969,\n",
       " 'start': 48,\n",
       " 'end': 71,\n",
       " 'answer': 'Python and data science'}"
      ]
     },
     "execution_count": 19,
     "metadata": {},
     "output_type": "execute_result"
    }
   ],
   "source": [
    "#question-answering pipeline \n",
    "qa_pipeline = pipeline(\"question-answering\", model=\"distilbert-base-uncased-distilled-squad\")\n",
    "\n",
    "qa_pipeline({\n",
    "    \"context\": \"This job requires 5 to 7 years of experience in Python and data science.\",\n",
    "    \"question\": \"What is the experience required?\"\n",
    "})"
   ]
  },
  {
   "cell_type": "code",
   "execution_count": 20,
   "id": "33ab882a-3231-4972-8445-12f4f2f228c3",
   "metadata": {},
   "outputs": [],
   "source": [
    "#Loading NLP Models\n",
    "nlp = spacy.load(\"en_core_web_sm\")\n",
    "bert_qa = pipeline(\"question-answering\", model=\"deepset/bert-base-cased-squad2\")\n",
    "roberta_qa = pipeline(\"question-answering\", model=\"deepset/roberta-base-squad2\")\n",
    "distilbert_qa = pipeline(\"question-answering\", model=\"distilbert-base-uncased-distilled-squad\")"
   ]
  },
  {
   "cell_type": "code",
   "execution_count": 21,
   "id": "edfd98a9-194c-46c5-96d7-7005b6143179",
   "metadata": {},
   "outputs": [
    {
     "name": "stdout",
     "output_type": "stream",
     "text": [
      "2025-05-06 16:41:12,383 TARS initialized without a task. You need to call .add_and_switch_to_new_task() before training this model\n"
     ]
    }
   ],
   "source": [
    "#TARS Model (zero-shot classifier)\n",
    "tars = TARSClassifier.load(\"tars-base\")"
   ]
  },
  {
   "cell_type": "code",
   "execution_count": 22,
   "id": "5a8a397e-5dc5-4152-b21f-8e4538ca01da",
   "metadata": {},
   "outputs": [],
   "source": [
    "#Loading Excel File\n",
    "df = pd.read_excel(\"Job Descriptions.xlsx\")\n",
    "df[\"JD\"] = df[\"Job Descriptions\"].astype(str)  "
   ]
  },
  {
   "cell_type": "code",
   "execution_count": 23,
   "id": "f960c607-491b-4234-b6fd-82c8a5e71bfe",
   "metadata": {},
   "outputs": [],
   "source": [
    "#Helper function to extract experience with spaCy\n",
    "def extract_with_spacy(text):\n",
    "    doc = nlp(text)\n",
    "    experience_phrases = []\n",
    "    for ent in doc.ents:\n",
    "        if ent.label_ == \"DATE\" and \"year\" in ent.text.lower():\n",
    "            experience_phrases.append(ent.text)\n",
    "    return \", \".join(experience_phrases) if experience_phrases else None"
   ]
  },
  {
   "cell_type": "code",
   "execution_count": 24,
   "id": "d4cea8aa-ed8e-4ebb-bddd-df2078a1e31e",
   "metadata": {},
   "outputs": [],
   "source": [
    "#Used QA models to extract experience\n",
    "def extract_with_qa(text, model, model_name):\n",
    "    try:\n",
    "        result = model({\n",
    "            'context': text,\n",
    "            'question': 'What is the total experience required for this job?'\n",
    "        })\n",
    "        return result['answer']\n",
    "    except:\n",
    "        return None"
   ]
  },
  {
   "cell_type": "code",
   "execution_count": 25,
   "id": "af208993-8323-47ab-a66f-65e897ab5b33",
   "metadata": {},
   "outputs": [],
   "source": [
    "#Used TARS model\n",
    "def extract_with_tars(text):\n",
    "    try:\n",
    "        sentence = Sentence(text)\n",
    "        tars.predict_zero_shot(sentence, \n",
    "            candidate_labels=[\n",
    "                \"0-1 years\", \"1-3 years\", \"3-5 years\", \n",
    "                \"5-7 years\", \"7+ years\", \"10+ years\", \"experience not specified\"\n",
    "            ],\n",
    "            multi_label=False)\n",
    "        return sentence.labels[0].value\n",
    "    except:\n",
    "        return None"
   ]
  },
  {
   "cell_type": "code",
   "execution_count": 26,
   "id": "653bbce0-8d6e-4a12-a005-8ff419f9e101",
   "metadata": {},
   "outputs": [
    {
     "name": "stderr",
     "output_type": "stream",
     "text": [
      "100%|███████████████████████████████████████████████████████████████████████████████████████████████| 200/200 [00:08<00:00, 24.08it/s]\n",
      "100%|███████████████████████████████████████████████████████████████████████████████████████████████| 200/200 [00:16<00:00, 12.34it/s]\n",
      "100%|███████████████████████████████████████████████████████████████████████████████████████████████| 200/200 [00:21<00:00,  9.26it/s]\n",
      "100%|███████████████████████████████████████████████████████████████████████████████████████████████| 200/200 [00:08<00:00, 22.63it/s]\n",
      "100%|██████████████████████████████████████████████████████████████████████████████████████████████| 200/200 [00:00<00:00, 330.69it/s]\n"
     ]
    }
   ],
   "source": [
    "#output columns\n",
    "tqdm.pandas()\n",
    "df[\"spaCy_Experience\"] = df[\"JD\"].progress_apply(extract_with_spacy)\n",
    "df[\"BERT_Experience\"] = df[\"JD\"].progress_apply(lambda x: extract_with_qa(x, bert_qa, \"BERT\"))\n",
    "df[\"RoBERTa_Experience\"] = df[\"JD\"].progress_apply(lambda x: extract_with_qa(x, roberta_qa, \"RoBERTa\"))\n",
    "df[\"DistilBERT_Experience\"] = df[\"JD\"].progress_apply(lambda x: extract_with_qa(x, distilbert_qa, \"DistilBERT\"))\n",
    "df[\"TARS_Experience\"] = df[\"JD\"].progress_apply(extract_with_tars)"
   ]
  },
  {
   "cell_type": "code",
   "execution_count": 27,
   "id": "5a347722-2458-44f4-a2b2-57d0a0a33ec6",
   "metadata": {},
   "outputs": [
    {
     "name": "stdout",
     "output_type": "stream",
     "text": [
      "Output saved to Extracted_Experience_Comparison.xlsx\n"
     ]
    }
   ],
   "source": [
    "#saved output to Excel\n",
    "df.to_excel(\"Extracted_Experience_Comparison.xlsx\", index=False)\n",
    "print(\"Output saved to Extracted_Experience_Comparison.xlsx\")"
   ]
  },
  {
   "cell_type": "code",
   "execution_count": null,
   "id": "e3969dad-ce4c-48c1-9c4e-650c9e78548c",
   "metadata": {},
   "outputs": [],
   "source": []
  }
 ],
 "metadata": {
  "kernelspec": {
   "display_name": "Python 3 (ipykernel)",
   "language": "python",
   "name": "python3"
  },
  "language_info": {
   "codemirror_mode": {
    "name": "ipython",
    "version": 3
   },
   "file_extension": ".py",
   "mimetype": "text/x-python",
   "name": "python",
   "nbconvert_exporter": "python",
   "pygments_lexer": "ipython3",
   "version": "3.11.11"
  }
 },
 "nbformat": 4,
 "nbformat_minor": 5
}
